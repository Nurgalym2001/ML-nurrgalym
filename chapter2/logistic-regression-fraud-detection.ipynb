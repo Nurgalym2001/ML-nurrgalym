{
 "cells": [
  {
   "cell_type": "markdown",
   "metadata": {},
   "source": [
    "## Этот код демонстрирует, как использовать логистическую регрессию для обнаружения мошенничества с кредитными картами. "
   ]
  },
  {
   "cell_type": "markdown",
   "metadata": {},
   "source": [
    "### Импорт библиотек: В этой части кода импортируются необходимые библиотеки для работы с данными, машинным обучением и визуализацией, такие как pandas, numpy, sklearn, matplotlib и seaborn."
   ]
  },
  {
   "cell_type": "code",
   "execution_count": 18,
   "metadata": {},
   "outputs": [],
   "source": [
    "import pandas as pd\n",
    "from sklearn.model_selection import train_test_split\n",
    "from sklearn.linear_model import LogisticRegression\n",
    "from sklearn.metrics import accuracy_score, confusion_matrix"
   ]
  },
  {
   "cell_type": "markdown",
   "metadata": {},
   "source": [
    "### Загрузка и изучение данных: В этой части кода загружается набор данных о транзакциях с кредитными картами, содержащий 284 807 записей и 31 признак. Один из признаков - это label, который указывает, является ли транзакция мошеннической (1) или нет (0). "
   ]
  },
  {
   "cell_type": "code",
   "execution_count": 2,
   "metadata": {},
   "outputs": [],
   "source": [
    "# Считывание данных из CSV-файла\n",
    "df = pd.read_csv('payment_fraud.csv')"
   ]
  },
  {
   "cell_type": "code",
   "execution_count": 4,
   "metadata": {},
   "outputs": [
    {
     "data": {
      "text/plain": [
       "(39221, 6)"
      ]
     },
     "execution_count": 4,
     "metadata": {},
     "output_type": "execute_result"
    }
   ],
   "source": [
    "df.shape"
   ]
  },
  {
   "cell_type": "code",
   "execution_count": 8,
   "metadata": {},
   "outputs": [
    {
     "data": {
      "text/plain": [
       "0    38661\n",
       "1      560\n",
       "Name: label, dtype: int64"
      ]
     },
     "execution_count": 8,
     "metadata": {},
     "output_type": "execute_result"
    }
   ],
   "source": [
    "df['label'].value_counts()"
   ]
  },
  {
   "cell_type": "code",
   "execution_count": 9,
   "metadata": {},
   "outputs": [
    {
     "data": {
      "text/plain": [
       "creditcard     28004\n",
       "paypal          9303\n",
       "storecredit     1914\n",
       "Name: paymentMethod, dtype: int64"
      ]
     },
     "execution_count": 9,
     "metadata": {},
     "output_type": "execute_result"
    }
   ],
   "source": [
    "df['paymentMethod'].value_counts()"
   ]
  },
  {
   "cell_type": "code",
   "execution_count": 10,
   "metadata": {},
   "outputs": [
    {
     "data": {
      "text/html": [
       "<div>\n",
       "<style scoped>\n",
       "    .dataframe tbody tr th:only-of-type {\n",
       "        vertical-align: middle;\n",
       "    }\n",
       "\n",
       "    .dataframe tbody tr th {\n",
       "        vertical-align: top;\n",
       "    }\n",
       "\n",
       "    .dataframe thead th {\n",
       "        text-align: right;\n",
       "    }\n",
       "</style>\n",
       "<table border=\"1\" class=\"dataframe\">\n",
       "  <thead>\n",
       "    <tr style=\"text-align: right;\">\n",
       "      <th></th>\n",
       "      <th>accountAgeDays</th>\n",
       "      <th>numItems</th>\n",
       "      <th>localTime</th>\n",
       "      <th>paymentMethod</th>\n",
       "      <th>paymentMethodAgeDays</th>\n",
       "      <th>label</th>\n",
       "    </tr>\n",
       "  </thead>\n",
       "  <tbody>\n",
       "    <tr>\n",
       "      <th>33182</th>\n",
       "      <td>153</td>\n",
       "      <td>1</td>\n",
       "      <td>4.962055</td>\n",
       "      <td>paypal</td>\n",
       "      <td>152.063889</td>\n",
       "      <td>0</td>\n",
       "    </tr>\n",
       "    <tr>\n",
       "      <th>21764</th>\n",
       "      <td>112</td>\n",
       "      <td>1</td>\n",
       "      <td>4.505662</td>\n",
       "      <td>creditcard</td>\n",
       "      <td>0.000000</td>\n",
       "      <td>0</td>\n",
       "    </tr>\n",
       "    <tr>\n",
       "      <th>4871</th>\n",
       "      <td>4</td>\n",
       "      <td>1</td>\n",
       "      <td>4.895263</td>\n",
       "      <td>creditcard</td>\n",
       "      <td>3.559722</td>\n",
       "      <td>0</td>\n",
       "    </tr>\n",
       "    <tr>\n",
       "      <th>14890</th>\n",
       "      <td>836</td>\n",
       "      <td>1</td>\n",
       "      <td>5.040929</td>\n",
       "      <td>creditcard</td>\n",
       "      <td>721.078472</td>\n",
       "      <td>0</td>\n",
       "    </tr>\n",
       "    <tr>\n",
       "      <th>17382</th>\n",
       "      <td>2000</td>\n",
       "      <td>1</td>\n",
       "      <td>4.886641</td>\n",
       "      <td>creditcard</td>\n",
       "      <td>1728.866667</td>\n",
       "      <td>0</td>\n",
       "    </tr>\n",
       "    <tr>\n",
       "      <th>16121</th>\n",
       "      <td>2000</td>\n",
       "      <td>1</td>\n",
       "      <td>4.057414</td>\n",
       "      <td>creditcard</td>\n",
       "      <td>0.081250</td>\n",
       "      <td>0</td>\n",
       "    </tr>\n",
       "    <tr>\n",
       "      <th>33405</th>\n",
       "      <td>154</td>\n",
       "      <td>1</td>\n",
       "      <td>4.921318</td>\n",
       "      <td>creditcard</td>\n",
       "      <td>152.000000</td>\n",
       "      <td>0</td>\n",
       "    </tr>\n",
       "    <tr>\n",
       "      <th>12112</th>\n",
       "      <td>1859</td>\n",
       "      <td>1</td>\n",
       "      <td>4.921318</td>\n",
       "      <td>creditcard</td>\n",
       "      <td>0.011806</td>\n",
       "      <td>0</td>\n",
       "    </tr>\n",
       "    <tr>\n",
       "      <th>32347</th>\n",
       "      <td>8</td>\n",
       "      <td>1</td>\n",
       "      <td>4.748314</td>\n",
       "      <td>paypal</td>\n",
       "      <td>7.636806</td>\n",
       "      <td>0</td>\n",
       "    </tr>\n",
       "    <tr>\n",
       "      <th>14898</th>\n",
       "      <td>2000</td>\n",
       "      <td>1</td>\n",
       "      <td>4.836982</td>\n",
       "      <td>creditcard</td>\n",
       "      <td>0.000694</td>\n",
       "      <td>0</td>\n",
       "    </tr>\n",
       "    <tr>\n",
       "      <th>22285</th>\n",
       "      <td>22</td>\n",
       "      <td>1</td>\n",
       "      <td>4.921318</td>\n",
       "      <td>paypal</td>\n",
       "      <td>0.000000</td>\n",
       "      <td>0</td>\n",
       "    </tr>\n",
       "    <tr>\n",
       "      <th>22754</th>\n",
       "      <td>193</td>\n",
       "      <td>1</td>\n",
       "      <td>4.057414</td>\n",
       "      <td>creditcard</td>\n",
       "      <td>0.002778</td>\n",
       "      <td>0</td>\n",
       "    </tr>\n",
       "    <tr>\n",
       "      <th>3500</th>\n",
       "      <td>2</td>\n",
       "      <td>1</td>\n",
       "      <td>4.895263</td>\n",
       "      <td>creditcard</td>\n",
       "      <td>0.000694</td>\n",
       "      <td>0</td>\n",
       "    </tr>\n",
       "    <tr>\n",
       "      <th>21487</th>\n",
       "      <td>231</td>\n",
       "      <td>1</td>\n",
       "      <td>5.040929</td>\n",
       "      <td>creditcard</td>\n",
       "      <td>0.001389</td>\n",
       "      <td>0</td>\n",
       "    </tr>\n",
       "    <tr>\n",
       "      <th>14531</th>\n",
       "      <td>2000</td>\n",
       "      <td>1</td>\n",
       "      <td>4.921349</td>\n",
       "      <td>creditcard</td>\n",
       "      <td>0.050694</td>\n",
       "      <td>0</td>\n",
       "    </tr>\n",
       "    <tr>\n",
       "      <th>37042</th>\n",
       "      <td>114</td>\n",
       "      <td>1</td>\n",
       "      <td>4.962055</td>\n",
       "      <td>creditcard</td>\n",
       "      <td>0.000000</td>\n",
       "      <td>0</td>\n",
       "    </tr>\n",
       "    <tr>\n",
       "      <th>2682</th>\n",
       "      <td>22</td>\n",
       "      <td>1</td>\n",
       "      <td>4.745402</td>\n",
       "      <td>creditcard</td>\n",
       "      <td>21.052083</td>\n",
       "      <td>0</td>\n",
       "    </tr>\n",
       "    <tr>\n",
       "      <th>29150</th>\n",
       "      <td>1010</td>\n",
       "      <td>1</td>\n",
       "      <td>4.921318</td>\n",
       "      <td>creditcard</td>\n",
       "      <td>0.000000</td>\n",
       "      <td>0</td>\n",
       "    </tr>\n",
       "    <tr>\n",
       "      <th>7574</th>\n",
       "      <td>46</td>\n",
       "      <td>1</td>\n",
       "      <td>4.524580</td>\n",
       "      <td>creditcard</td>\n",
       "      <td>45.248611</td>\n",
       "      <td>0</td>\n",
       "    </tr>\n",
       "    <tr>\n",
       "      <th>14732</th>\n",
       "      <td>8</td>\n",
       "      <td>1</td>\n",
       "      <td>4.745402</td>\n",
       "      <td>creditcard</td>\n",
       "      <td>0.650000</td>\n",
       "      <td>0</td>\n",
       "    </tr>\n",
       "  </tbody>\n",
       "</table>\n",
       "</div>"
      ],
      "text/plain": [
       "       accountAgeDays  numItems  localTime paymentMethod  \\\n",
       "33182             153         1   4.962055        paypal   \n",
       "21764             112         1   4.505662    creditcard   \n",
       "4871                4         1   4.895263    creditcard   \n",
       "14890             836         1   5.040929    creditcard   \n",
       "17382            2000         1   4.886641    creditcard   \n",
       "16121            2000         1   4.057414    creditcard   \n",
       "33405             154         1   4.921318    creditcard   \n",
       "12112            1859         1   4.921318    creditcard   \n",
       "32347               8         1   4.748314        paypal   \n",
       "14898            2000         1   4.836982    creditcard   \n",
       "22285              22         1   4.921318        paypal   \n",
       "22754             193         1   4.057414    creditcard   \n",
       "3500                2         1   4.895263    creditcard   \n",
       "21487             231         1   5.040929    creditcard   \n",
       "14531            2000         1   4.921349    creditcard   \n",
       "37042             114         1   4.962055    creditcard   \n",
       "2682               22         1   4.745402    creditcard   \n",
       "29150            1010         1   4.921318    creditcard   \n",
       "7574               46         1   4.524580    creditcard   \n",
       "14732               8         1   4.745402    creditcard   \n",
       "\n",
       "       paymentMethodAgeDays  label  \n",
       "33182            152.063889      0  \n",
       "21764              0.000000      0  \n",
       "4871               3.559722      0  \n",
       "14890            721.078472      0  \n",
       "17382           1728.866667      0  \n",
       "16121              0.081250      0  \n",
       "33405            152.000000      0  \n",
       "12112              0.011806      0  \n",
       "32347              7.636806      0  \n",
       "14898              0.000694      0  \n",
       "22285              0.000000      0  \n",
       "22754              0.002778      0  \n",
       "3500               0.000694      0  \n",
       "21487              0.001389      0  \n",
       "14531              0.050694      0  \n",
       "37042              0.000000      0  \n",
       "2682              21.052083      0  \n",
       "29150              0.000000      0  \n",
       "7574              45.248611      0  \n",
       "14732              0.650000      0  "
      ]
     },
     "execution_count": 10,
     "metadata": {},
     "output_type": "execute_result"
    }
   ],
   "source": [
    "df.sample(20)"
   ]
  },
  {
   "cell_type": "markdown",
   "metadata": {},
   "source": [
    "## Преобразование категориальных признаков:\n",
    "### Он преобразует категориальный признак \"paymentMethod\" в фиктивные переменные с помощью метода one-hot encoding.\n"
   ]
  },
  {
   "cell_type": "code",
   "execution_count": 11,
   "metadata": {},
   "outputs": [
    {
     "data": {
      "text/html": [
       "<div>\n",
       "<style scoped>\n",
       "    .dataframe tbody tr th:only-of-type {\n",
       "        vertical-align: middle;\n",
       "    }\n",
       "\n",
       "    .dataframe tbody tr th {\n",
       "        vertical-align: top;\n",
       "    }\n",
       "\n",
       "    .dataframe thead th {\n",
       "        text-align: right;\n",
       "    }\n",
       "</style>\n",
       "<table border=\"1\" class=\"dataframe\">\n",
       "  <thead>\n",
       "    <tr style=\"text-align: right;\">\n",
       "      <th></th>\n",
       "      <th>accountAgeDays</th>\n",
       "      <th>numItems</th>\n",
       "      <th>localTime</th>\n",
       "      <th>paymentMethodAgeDays</th>\n",
       "      <th>label</th>\n",
       "      <th>paymentMethod_creditcard</th>\n",
       "      <th>paymentMethod_paypal</th>\n",
       "      <th>paymentMethod_storecredit</th>\n",
       "    </tr>\n",
       "  </thead>\n",
       "  <tbody>\n",
       "    <tr>\n",
       "      <th>31752</th>\n",
       "      <td>1170</td>\n",
       "      <td>1</td>\n",
       "      <td>4.836982</td>\n",
       "      <td>0.002083</td>\n",
       "      <td>0</td>\n",
       "      <td>1</td>\n",
       "      <td>0</td>\n",
       "      <td>0</td>\n",
       "    </tr>\n",
       "    <tr>\n",
       "      <th>361</th>\n",
       "      <td>2000</td>\n",
       "      <td>1</td>\n",
       "      <td>5.034622</td>\n",
       "      <td>0.000000</td>\n",
       "      <td>0</td>\n",
       "      <td>1</td>\n",
       "      <td>0</td>\n",
       "      <td>0</td>\n",
       "    </tr>\n",
       "    <tr>\n",
       "      <th>28381</th>\n",
       "      <td>1303</td>\n",
       "      <td>1</td>\n",
       "      <td>4.742303</td>\n",
       "      <td>0.000000</td>\n",
       "      <td>0</td>\n",
       "      <td>1</td>\n",
       "      <td>0</td>\n",
       "      <td>0</td>\n",
       "    </tr>\n",
       "    <tr>\n",
       "      <th>25580</th>\n",
       "      <td>216</td>\n",
       "      <td>1</td>\n",
       "      <td>4.748314</td>\n",
       "      <td>0.000000</td>\n",
       "      <td>0</td>\n",
       "      <td>1</td>\n",
       "      <td>0</td>\n",
       "      <td>0</td>\n",
       "    </tr>\n",
       "    <tr>\n",
       "      <th>16312</th>\n",
       "      <td>21</td>\n",
       "      <td>1</td>\n",
       "      <td>4.745402</td>\n",
       "      <td>20.944444</td>\n",
       "      <td>0</td>\n",
       "      <td>0</td>\n",
       "      <td>1</td>\n",
       "      <td>0</td>\n",
       "    </tr>\n",
       "  </tbody>\n",
       "</table>\n",
       "</div>"
      ],
      "text/plain": [
       "       accountAgeDays  numItems  localTime  paymentMethodAgeDays  label  \\\n",
       "31752            1170         1   4.836982              0.002083      0   \n",
       "361              2000         1   5.034622              0.000000      0   \n",
       "28381            1303         1   4.742303              0.000000      0   \n",
       "25580             216         1   4.748314              0.000000      0   \n",
       "16312              21         1   4.745402             20.944444      0   \n",
       "\n",
       "       paymentMethod_creditcard  paymentMethod_paypal  \\\n",
       "31752                         1                     0   \n",
       "361                           1                     0   \n",
       "28381                         1                     0   \n",
       "25580                         1                     0   \n",
       "16312                         0                     1   \n",
       "\n",
       "       paymentMethod_storecredit  \n",
       "31752                          0  \n",
       "361                            0  \n",
       "28381                          0  \n",
       "25580                          0  \n",
       "16312                          0  "
      ]
     },
     "execution_count": 11,
     "metadata": {},
     "output_type": "execute_result"
    }
   ],
   "source": [
    "# Преобразовать категориальный признак в фиктивные переменные с однократным кодированием\n",
    "df = pd.get_dummies(df, columns=['paymentMethod'])\n",
    "df.sample(5)"
   ]
  },
  {
   "cell_type": "markdown",
   "metadata": {},
   "source": [
    "## Разделение данных:\n",
    "### Он разделяет данные на обучающий и тестовый наборы для оценки производительности модели."
   ]
  },
  {
   "cell_type": "code",
   "execution_count": 15,
   "metadata": {},
   "outputs": [],
   "source": [
    "# Разделить набор данных на обучающие и тестовые наборы\n",
    "X_train, X_test, y_train, y_test = train_test_split(\n",
    "    df.drop('label', axis=1), df['label'],\n",
    "    test_size=0.3, random_state=17)"
   ]
  },
  {
   "cell_type": "markdown",
   "metadata": {},
   "source": [
    "## Инициализация и обучение модели: \n",
    "### Он создает модель логистической регрессии и обучает ее на обучающих данных."
   ]
  },
  {
   "cell_type": "code",
   "execution_count": 16,
   "metadata": {},
   "outputs": [],
   "source": [
    "# Инициализировать и обучить модель классификатора\n",
    "clf = LogisticRegression().fit(X_train, y_train)\n",
    "\n",
    "# Делайте прогнозы по тестовому набору\n",
    "y_pred = clf.predict(X_test)"
   ]
  },
  {
   "cell_type": "markdown",
   "metadata": {},
   "source": [
    "## Оценка производительности модели: \n",
    "### Он вычисляет точность предсказаний и выводит матрицу ошибок, которая показывает, какие метки были предсказаны верно, а какие — неверно."
   ]
  },
  {
   "cell_type": "code",
   "execution_count": 17,
   "metadata": {},
   "outputs": [
    {
     "name": "stdout",
     "output_type": "stream",
     "text": [
      "1.0\n",
      "[[11596     0]\n",
      " [    0   171]]\n"
     ]
    }
   ],
   "source": [
    "# Сравните предсказания тестового набора с основными метками истинности\n",
    "print(accuracy_score(y_pred, y_test))\n",
    "print(confusion_matrix(y_test, y_pred))"
   ]
  },
  {
   "cell_type": "code",
   "execution_count": null,
   "metadata": {},
   "outputs": [],
   "source": []
  }
 ],
 "metadata": {
  "kernelspec": {
   "display_name": "Python 3 (ipykernel)",
   "language": "python",
   "name": "python3"
  },
  "language_info": {
   "codemirror_mode": {
    "name": "ipython",
    "version": 3
   },
   "file_extension": ".py",
   "mimetype": "text/x-python",
   "name": "python",
   "nbconvert_exporter": "python",
   "pygments_lexer": "ipython3",
   "version": "3.10.9"
  }
 },
 "nbformat": 4,
 "nbformat_minor": 2
}
