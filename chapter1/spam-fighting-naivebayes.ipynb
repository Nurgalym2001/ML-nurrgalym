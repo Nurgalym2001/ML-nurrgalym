{
 "cells": [
  {
   "cell_type": "markdown",
   "metadata": {},
   "source": [
    "## Этот код выполняет классификацию электронных писем на спам и не спам с использованием метода Multinomial Naive Bayes. Он используется для оценки производительности классификатора на тестовом наборе данных, вычисляя такие метрики, как точность (precision), полнота (recall), F1-мера (F1-score) и общая точность классификации (classification accuracy). В результате вы получаете оценку эффективности классификации модели на задаче определения спама в электронной почте."
   ]
  },
  {
   "cell_type": "code",
   "execution_count": 1,
   "metadata": {},
   "outputs": [],
   "source": [
    "import os  # Модуль для работы с операционной системой\n",
    "import email_read_util  # Модуль для чтения и обработки электронных писем\n",
    "from sklearn.model_selection import train_test_split  # Модуль для разделения набора данных на обучающий и тестовый\n",
    "from sklearn.feature_extraction.text import CountVectorizer  # Модуль для извлечения признаков из текста\n",
    "from sklearn.naive_bayes import MultinomialNB  # Модуль для реализации наивного байесовского классификатора\n",
    "from sklearn.metrics import accuracy_score, classification_report  # Модуль для оценки качества классификации"
   ]
  },
  {
   "cell_type": "markdown",
   "metadata": {},
   "source": [
    "## Download 2007 TREC Public Spam Corpus\n",
    "1. Read the \"Agreement for use\"\n",
    "   https://plg.uwaterloo.ca/~gvcormac/treccorpus07/\n",
    "\n",
    "2. Download 255 MB Corpus (trec07p.tgz) and untar into the 'chapter1/datasets' directory\n",
    "\n",
    "3. Check that the below paths for 'DATA_DIR' and 'LABELS_FILE' exist"
   ]
  },
  {
   "cell_type": "markdown",
   "metadata": {},
   "source": [
    "## Определение директории данных и файлов меток:\n",
    "### В этом блоке определяются пути к директории с данными и файлу с метками. Переменные DATA_DIR и LABELS_FILE содержат пути к директории и файлу, соответственно. Также задается параметр TRAINING_SET_RATIO, который определяет пропорцию разделения данных на обучающий и тестовый наборы."
   ]
  },
  {
   "cell_type": "code",
   "execution_count": 2,
   "metadata": {},
   "outputs": [],
   "source": [
    "# Определение директории с данными и файла с метками\n",
    "DATA_DIR = 'datasets/trec07p/data/'  # Путь к директории с данными\n",
    "LABELS_FILE = 'datasets/trec07p/full/index'  # Путь к файлу с метками\n",
    "TRAINING_SET_RATIO = 0.7  # Пропорция разделения набора данных на тренировочный и тестовый\n",
    "labels = {}  # Словарь для хранения меток (имя файла: метка)"
   ]
  },
  {
   "cell_type": "markdown",
   "metadata": {},
   "source": [
    "## Чтение и обработка меток:\n",
    "### Далее происходит чтение и обработка файла с метками. С помощью цикла for считываются метки из файла LABELS_FILE и сохраняются в словаре labels, где ключами являются имена файлов, а значениями - метки"
   ]
  },
  {
   "cell_type": "code",
   "execution_count": 3,
   "metadata": {},
   "outputs": [],
   "source": [
    "# Чтение и обработка файла меток\n",
    "with open(LABELS_FILE) as f:\n",
    "    for line in f:\n",
    "        line = line.strip()\n",
    "        label, key = line.split()\n",
    "        labels[key.split('/')[-1]] = 1 if label.lower() == 'ham' else 0"
   ]
  },
  {
   "cell_type": "markdown",
   "metadata": {},
   "source": [
    "## Функция для чтения электронных писем:\n",
    "### Здесь определяется функция read_email_files(), которая читает и обрабатывает электронные письма. В цикле for происходит итерация по количеству меток, и для каждой метки считывается соответствующее письмо из директории DATA_DIR с помощью функции extract_email_text из модуля email_read_util. Текст письма добавляется в список X, а его метка - в список y."
   ]
  },
  {
   "cell_type": "code",
   "execution_count": 4,
   "metadata": {},
   "outputs": [],
   "source": [
    "def read_email_files():\n",
    "    X = []\n",
    "    y = [] \n",
    "    for i in range(len(labels)):\n",
    "        filename = 'inmail.' + str(i+1)\n",
    "        email_str = email_read_util.extract_email_text(\n",
    "            os.path.join(DATA_DIR, filename))\n",
    "        X.append(email_str)\n",
    "        y.append(labels[filename])\n",
    "    return X, y"
   ]
  },
  {
   "cell_type": "code",
   "execution_count": 5,
   "metadata": {},
   "outputs": [],
   "source": [
    "# Чтение и обработка электронных писем\n",
    "X, y = read_email_files()"
   ]
  },
  {
   "cell_type": "markdown",
   "metadata": {},
   "source": [
    "## Чтение и обработка данных:\n",
    "### В этой части кода вызывается функция read_email_files(), результат ее выполнения сохраняется в переменные X и y. После этого данные разделяются на обучающий и тестовый наборы с помощью функции train_test_split, где X и y - это тексты писем и их метки соответственно."
   ]
  },
  {
   "cell_type": "code",
   "execution_count": 6,
   "metadata": {},
   "outputs": [
    {
     "name": "stderr",
     "output_type": "stream",
     "text": [
      "/usr/local/lib/python3.6/site-packages/sklearn/model_selection/_split.py:2026: FutureWarning: From version 0.21, test_size will always complement train_size unless both are specified.\n",
      "  FutureWarning)\n"
     ]
    }
   ],
   "source": [
    "# Разделение набора данных на обучающий и тестовый\n",
    "from sklearn.model_selection import train_test_split \n",
    "\n",
    "X_train, X_test, y_train, y_test, idx_train, idx_test = \\\n",
    "    train_test_split(X, y, range(len(y)), \n",
    "    train_size=TRAINING_SET_RATIO, random_state=2)"
   ]
  },
  {
   "cell_type": "markdown",
   "metadata": {},
   "source": [
    "## Преобразование текста в признаки:\n",
    "### Для преобразования текста писем в признаки используется класс CountVectorizer. Данные обучающего и тестового наборов преобразуются в матрицы признаков с помощью методов fit_transform и transform соответственно."
   ]
  },
  {
   "cell_type": "code",
   "execution_count": 7,
   "metadata": {},
   "outputs": [],
   "source": [
    "# Преобразование текста писем в векторы признаков\n",
    "from sklearn.feature_extraction.text import CountVectorizer\n",
    "\n",
    "vectorizer = CountVectorizer()\n",
    "X_train_vector = vectorizer.fit_transform(X_train)\n",
    "X_test_vector = vectorizer.transform(X_test)"
   ]
  },
  {
   "cell_type": "markdown",
   "metadata": {},
   "source": [
    "## Обучение классификатора и оценка его производительности:\n",
    "### Далее создается объект классификатора MultinomialNB, который обучается на обучающем наборе с помощью метода fit. Затем выполняется предсказание меток для тестового набора с помощью метода predict. После этого выводится отчет о классификации с помощью функции classification_report и выводится точность классификации с помощью функции accuracy_score."
   ]
  },
  {
   "cell_type": "code",
   "execution_count": 8,
   "metadata": {},
   "outputs": [
    {
     "name": "stdout",
     "output_type": "stream",
     "text": [
      "             precision    recall  f1-score   support\n",
      "\n",
      "       Spam       0.99      0.94      0.97     15035\n",
      "        Ham       0.90      0.98      0.94      7591\n",
      "\n",
      "avg / total       0.96      0.96      0.96     22626\n",
      "\n",
      "Classification accuracy 95.6%\n"
     ]
    }
   ],
   "source": [
    "# Обучение наивного байесовского классификатора\n",
    "from sklearn.naive_bayes import MultinomialNB\n",
    "from sklearn.metrics import accuracy_score\n",
    "from sklearn.metrics import classification_report\n",
    "\n",
    "# Инициализируйте классификатор и делайте предсказания меток\n",
    "mnb = MultinomialNB()\n",
    "mnb.fit(X_train_vector, y_train)\n",
    "y_pred = mnb.predict(X_test_vector)\n",
    "\n",
    "# Вывод результатов классификации\n",
    "print(classification_report(y_test, y_pred, target_names=['Spam', 'Ham']))\n",
    "print('Classification accuracy {:.1%}'.format(accuracy_score(y_test, y_pred)))"
   ]
  },
  {
   "cell_type": "markdown",
   "metadata": {},
   "source": [
    "## Классификационная точность (Classification accuracy) составляет 95.6%, что является общей точностью классификации модели на тестовом наборе данных. Это процент правильно классифицированных объектов относительно общего числа объектов в тестовом наборе."
   ]
  },
  {
   "cell_type": "code",
   "execution_count": null,
   "metadata": {},
   "outputs": [],
   "source": []
  }
 ],
 "metadata": {
  "kernelspec": {
   "display_name": "Python 3 (ipykernel)",
   "language": "python",
   "name": "python3"
  },
  "language_info": {
   "codemirror_mode": {
    "name": "ipython",
    "version": 3
   },
   "file_extension": ".py",
   "mimetype": "text/x-python",
   "name": "python",
   "nbconvert_exporter": "python",
   "pygments_lexer": "ipython3",
   "version": "3.10.9"
  }
 },
 "nbformat": 4,
 "nbformat_minor": 2
}
